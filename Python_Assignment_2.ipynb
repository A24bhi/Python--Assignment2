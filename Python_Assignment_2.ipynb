{
  "nbformat": 4,
  "nbformat_minor": 0,
  "metadata": {
    "colab": {
      "provenance": [],
      "authorship_tag": "ABX9TyOqBmK2TV0FI6Z1iz8Bv7xf",
      "include_colab_link": true
    },
    "kernelspec": {
      "name": "python3",
      "display_name": "Python 3"
    },
    "language_info": {
      "name": "python"
    }
  },
  "cells": [
    {
      "cell_type": "markdown",
      "metadata": {
        "id": "view-in-github",
        "colab_type": "text"
      },
      "source": [
        "<a href=\"https://colab.research.google.com/github/A24bhi/Python--Assignment2/blob/main/Python_Assignment_2.ipynb\" target=\"_parent\"><img src=\"https://colab.research.google.com/assets/colab-badge.svg\" alt=\"Open In Colab\"/></a>"
      ]
    },
    {
      "cell_type": "code",
      "execution_count": 1,
      "metadata": {
        "id": "akDvGcLLie-3"
      },
      "outputs": [],
      "source": [
        "# Question 1"
      ]
    },
    {
      "cell_type": "code",
      "source": [
        "from datetime import datetime"
      ],
      "metadata": {
        "id": "-5UyAelUistr"
      },
      "execution_count": 2,
      "outputs": []
    },
    {
      "cell_type": "code",
      "source": [
        "from datetime import datetime\n",
        "\n",
        "class Employee:\n",
        "    def __init__(self):\n",
        "        self.EmployeeID = None\n",
        "        self.Gender = None\n",
        "        self.Salary = None\n",
        "        self.PerformanceRating = None\n",
        "\n",
        "    def get(self):\n",
        "        self.EmployeeID = input(\"Enter Employee ID: \")\n",
        "        self.Gender = input(\"Enter Gender: \")\n",
        "        self.Salary = int(input(\"Enter Salary: \"))\n",
        "        self.PerformanceRating = int(input(\"Enter Performance Rating (out of 5): \"))\n",
        "\n",
        "class JoiningDetail:\n",
        "    def __init__(self):\n",
        "        self.DateOfJoining = None\n",
        "\n",
        "    def getDoJ(self):\n",
        "        doj = input(\"Enter Date of Joining (DD-MM-YYYY): \")\n",
        "        self.DateOfJoining = datetime.strptime(doj, \"%d-%m-%Y\")\n",
        "\n",
        "class Information(Employee, JoiningDetail):\n",
        "    def __init__(self):\n",
        "        Employee.__init__(self)\n",
        "        JoiningDetail.__init__(self)\n",
        "\n",
        "    def readData(self):\n",
        "        self.get()\n",
        "        self.getDoJ()\n",
        "\n",
        "    @staticmethod\n",
        "    def display_top_employees(employees):\n",
        "        top_employees = sorted(employees, key=lambda x: (-x.PerformanceRating, x.DateOfJoining))\n",
        "\n",
        "        print(\"\\nTop 3 Employees:\")\n",
        "        for emp in top_employees[:3]:\n",
        "            print(f\"Employee ID: {emp.EmployeeID}, Gender: {emp.Gender}, \"\n",
        "                  f\"Salary: {emp.Salary}, Performance Rating: {emp.PerformanceRating}, \"\n",
        "                  f\"Date of Joining: {emp.DateOfJoining.strftime('%d-%m-%Y')}\")\n",
        "\n",
        "if __name__ == \"__main__\":\n",
        "    num_employees = int(input(\"Enter number of employees: \"))\n",
        "    employees = []\n",
        "\n",
        "    for _ in range(num_employees):\n",
        "        info = Information()\n",
        "        info.readData()\n",
        "        employees.append(info)\n",
        "\n",
        "    Information.display_top_employees(employees)\n"
      ],
      "metadata": {
        "colab": {
          "base_uri": "https://localhost:8080/"
        },
        "id": "FaMyFAhVi2cy",
        "outputId": "cc91acf6-9a00-499d-ba01-05a2b7084281"
      },
      "execution_count": 10,
      "outputs": [
        {
          "output_type": "stream",
          "name": "stdout",
          "text": [
            "Enter number of employees: 2\n",
            "Enter Employee ID: 1\n",
            "Enter Gender: M\n",
            "Enter Salary: 20000\n",
            "Enter Performance Rating (out of 5): 4\n",
            "Enter Date of Joining (DD-MM-YYYY): 20-12-2020\n",
            "Enter Employee ID: 2\n",
            "Enter Gender: Female\n",
            "Enter Salary: 30000\n",
            "Enter Performance Rating (out of 5): 5\n",
            "Enter Date of Joining (DD-MM-YYYY): 20-1-2020\n",
            "\n",
            "Top 3 Employees:\n",
            "Employee ID: 2, Gender: Female, Salary: 30000, Performance Rating: 5, Date of Joining: 20-01-2020\n",
            "Employee ID: 1, Gender: M, Salary: 20000, Performance Rating: 4, Date of Joining: 20-12-2020\n"
          ]
        }
      ]
    },
    {
      "cell_type": "code",
      "source": [
        "# Question 2"
      ],
      "metadata": {
        "id": "DbtvUEfvjD0w"
      },
      "execution_count": 11,
      "outputs": []
    },
    {
      "cell_type": "code",
      "source": [
        "class Vehicle:\n",
        "    def Fare(self, fare):\n",
        "        return fare\n",
        "\n",
        "\n",
        "bus = Vehicle()\n",
        "car = Vehicle()\n",
        "train = Vehicle()\n",
        "truck = Vehicle()\n",
        "ship = Vehicle()\n",
        "\n",
        "\n",
        "bus_fare = bus.Fare(float(input(\"Enter fare for Bus: \")))\n",
        "car_fare = car.Fare(float(input(\"Enter fare for Car: \")))\n",
        "train_fare = train.Fare(float(input(\"Enter fare for Train: \")))\n",
        "truck_fare = truck.Fare(float(input(\"Enter fare for Truck: \")))\n",
        "ship_fare = ship.Fare(float(input(\"Enter fare for Ship: \")))\n",
        "\n",
        "\n",
        "TotalFare = bus_fare + car_fare + train_fare + truck_fare + ship_fare\n",
        "\n",
        "\n",
        "print(f\"Total Fare for all vehicles: {TotalFare}\")\n"
      ],
      "metadata": {
        "colab": {
          "base_uri": "https://localhost:8080/"
        },
        "id": "y2FIn1lmnJBz",
        "outputId": "62b44eac-aee8-4458-ad63-7765b808b9dd"
      },
      "execution_count": 44,
      "outputs": [
        {
          "output_type": "stream",
          "name": "stdout",
          "text": [
            "Enter fare for Bus: 2000\n",
            "Enter fare for Car: 5000\n",
            "Enter fare for Train: 6000\n",
            "Enter fare for Truck: 10000\n",
            "Enter fare for Ship: 20000\n",
            "Total Fare for all vehicles: 43000.0\n"
          ]
        }
      ]
    },
    {
      "cell_type": "code",
      "source": [
        "#Question 3"
      ],
      "metadata": {
        "id": "XdUuQTRdnJtG"
      },
      "execution_count": 13,
      "outputs": []
    },
    {
      "cell_type": "code",
      "source": [
        "def Max_Score(M):\n",
        "    max_scores = {}\n",
        "\n",
        "    for match in M.values():\n",
        "        for player, score in match.items():\n",
        "            if player in max_scores:\n",
        "                max_scores[player] = max(max_scores[player], score)\n",
        "            else:\n",
        "                max_scores[player] = score\n",
        "\n",
        "    top_player = max(max_scores, key=max_scores.get)\n",
        "    top_score = max_scores[top_player]\n",
        "\n",
        "    return top_player, top_score\n",
        "\n",
        "\n",
        "input_data = {\n",
        "    'test1': {'Dhoni': 56, 'Balaji': 85},\n",
        "    'test2': {'Dhoni': 87, 'Balaji': 200}\n",
        "}\n",
        "\n",
        "result = Max_Score(input_data)\n",
        "print(result)\n"
      ],
      "metadata": {
        "colab": {
          "base_uri": "https://localhost:8080/"
        },
        "id": "9I4x2YMZnuKc",
        "outputId": "a4edf05f-a41d-4fb8-b6b1-98c1a082b974"
      },
      "execution_count": 45,
      "outputs": [
        {
          "output_type": "stream",
          "name": "stdout",
          "text": [
            "('Balaji', 200)\n"
          ]
        }
      ]
    },
    {
      "cell_type": "code",
      "source": [
        "# Question 4"
      ],
      "metadata": {
        "id": "-1GLZ31WnurW"
      },
      "execution_count": 17,
      "outputs": []
    },
    {
      "cell_type": "code",
      "source": [
        "import random\n",
        "\n",
        "deck = list(range(1, 14)) * 4\n",
        "\n",
        "def draw_card():\n",
        "    \"\"\"Draws a card randomly from the deck.\"\"\"\n",
        "    return random.choice(deck)\n",
        "\n",
        "def play_card_game():\n",
        "    score = 0\n",
        "    selected_cards = random.sample(deck, 8)\n",
        "    total_chances = 5\n",
        "\n",
        "    print(\"Welcome to the Card Game!\")\n",
        "    print(f\"You have {total_chances} chances! Let's gooo!\")\n",
        "    print(f\"First card: {selected_cards[0]}\")\n",
        "\n",
        "    current_card = selected_cards[0]\n",
        "\n",
        "    for i, next_card in enumerate(selected_cards[0:], 1):\n",
        "        remaining_chances = total_chances - i\n",
        "\n",
        "\n",
        "        print(f\"Chances left: {remaining_chances}\")\n",
        "\n",
        "        guess = input(\"Will the next card be higher or lower? (h/l): \").strip().lower()\n",
        "\n",
        "        if (guess == 'h' and next_card > current_card) or (guess == 'l' and next_card < current_card):\n",
        "            print(f\"Next card: {next_card} (Correct!)\")\n",
        "            score += 20\n",
        "        else:\n",
        "            print(f\"Next card: {next_card} (Incorrect!)\")\n",
        "            score -= 15\n",
        "\n",
        "        current_card = next_card\n",
        "        print(f\"Current score: {score}\")\n",
        "\n",
        "        if remaining_chances == 0:\n",
        "            break\n",
        "\n",
        "    print(f\"Game over! Your final score is: {score}\")\n",
        "\n",
        "\n",
        "play_card_game()\n"
      ],
      "metadata": {
        "colab": {
          "base_uri": "https://localhost:8080/"
        },
        "id": "HqfTfRaNoLCX",
        "outputId": "314a30ae-bc5b-4f2a-cf96-28ae66e5ee7d"
      },
      "execution_count": 48,
      "outputs": [
        {
          "output_type": "stream",
          "name": "stdout",
          "text": [
            "Welcome to the Card Game!\n",
            "You have 5 chances! Let's gooo!\n",
            "First card: 2\n",
            "Chances left: 4\n",
            "Will the next card be higher or lower? (h/l): h\n",
            "Next card: 2 (Incorrect!)\n",
            "Current score: -15\n",
            "Chances left: 3\n",
            "Will the next card be higher or lower? (h/l): l\n",
            "Next card: 10 (Incorrect!)\n",
            "Current score: -30\n",
            "Chances left: 2\n",
            "Will the next card be higher or lower? (h/l): h\n",
            "Next card: 12 (Correct!)\n",
            "Current score: -10\n",
            "Chances left: 1\n",
            "Will the next card be higher or lower? (h/l): l\n",
            "Next card: 11 (Correct!)\n",
            "Current score: 10\n",
            "Chances left: 0\n",
            "Will the next card be higher or lower? (h/l): \n",
            "Next card: 1 (Incorrect!)\n",
            "Current score: -5\n",
            "Game over! Your final score is: -5\n"
          ]
        }
      ]
    },
    {
      "cell_type": "code",
      "source": [
        "# Question 5"
      ],
      "metadata": {
        "id": "69y4Jjt4oLkg"
      },
      "execution_count": 19,
      "outputs": []
    },
    {
      "cell_type": "code",
      "source": [
        "\n",
        "Car_0 = {}\n",
        "\n",
        "\n",
        "Car_0['x_position'] = 10\n",
        "Car_0['y_position'] = 72\n",
        "Car_0['speed'] = 'medium'\n",
        "\n",
        "\n",
        "if Car_0['speed'] == 'slow':\n",
        "    Car_0['x_position'] += 2\n",
        "elif Car_0['speed'] == 'medium':\n",
        "    Car_0['x_position'] += 9\n",
        "elif Car_0['speed'] == 'fast':\n",
        "    Car_0['x_position'] += 22\n",
        "\n",
        "\n",
        "print(Car_0)\n"
      ],
      "metadata": {
        "colab": {
          "base_uri": "https://localhost:8080/"
        },
        "id": "ns1NvFjJog4C",
        "outputId": "35881d18-e6ad-452c-b90d-b145148662c7"
      },
      "execution_count": 49,
      "outputs": [
        {
          "output_type": "stream",
          "name": "stdout",
          "text": [
            "{'x_position': 19, 'y_position': 72, 'speed': 'medium'}\n"
          ]
        }
      ]
    },
    {
      "cell_type": "code",
      "source": [
        "# Question 6"
      ],
      "metadata": {
        "id": "aFWyyHgPohjY"
      },
      "execution_count": 21,
      "outputs": []
    },
    {
      "cell_type": "code",
      "source": [
        "from abc import ABC, abstractmethod\n",
        "\n",
        "class Shape(ABC):\n",
        "    @abstractmethod\n",
        "    def area(self):\n",
        "        pass\n",
        "\n",
        "    @abstractmethod\n",
        "    def perimeter(self):\n",
        "        pass\n",
        "\n",
        "\n",
        "class Rectangle(Shape):\n",
        "    def __init__(self, width, height):\n",
        "        self.width = width\n",
        "        self.height = height\n",
        "\n",
        "    def area(self):\n",
        "        return self.width * self.height\n",
        "\n",
        "    def perimeter(self):\n",
        "        return 2 * (self.width + self.height)\n",
        "\n",
        "class Circle(Shape):\n",
        "    def __init__(self, radius):\n",
        "        self.radius = radius\n",
        "\n",
        "    def area(self):\n",
        "        return 3.14 * self.radius * self.radius\n",
        "\n",
        "    def perimeter(self):\n",
        "        return 2 * 3.14 * self.radius\n",
        "\n",
        "\n",
        "rectangle = Rectangle(10, 5)\n",
        "circle = Circle(7)\n",
        "\n",
        "print(f\"Rectangle Area: {rectangle.area()}\")\n",
        "print(f\"Rectangle Perimeter: {rectangle.perimeter()}\")\n",
        "\n",
        "print(f\"Circle Area: {circle.area()}\")\n",
        "print(f\"Circle Perimeter: {circle.perimeter()}\")\n"
      ],
      "metadata": {
        "colab": {
          "base_uri": "https://localhost:8080/"
        },
        "id": "OzlR3FC5o0aD",
        "outputId": "f36e828f-15e5-42ef-f474-93ed08dca044"
      },
      "execution_count": 50,
      "outputs": [
        {
          "output_type": "stream",
          "name": "stdout",
          "text": [
            "Rectangle Area: 50\n",
            "Rectangle Perimeter: 30\n",
            "Circle Area: 153.86\n",
            "Circle Perimeter: 43.96\n"
          ]
        }
      ]
    },
    {
      "cell_type": "code",
      "source": [
        "# Question 7"
      ],
      "metadata": {
        "id": "jUScJLB3o1JZ"
      },
      "execution_count": 23,
      "outputs": []
    },
    {
      "cell_type": "code",
      "source": [
        "\n",
        "class Animal:\n",
        "    def __init__(self, name):\n",
        "        self._name = name\n",
        "        self.__sound = \"Unknown\"\n",
        "\n",
        "    def speak(self):\n",
        "        return f\"{self._name} makes a sound.\"\n",
        "\n",
        "    def get_sound(self):\n",
        "        return self.__sound\n",
        "\n",
        "class Dog(Animal):\n",
        "    def __init__(self, name):\n",
        "        super().__init__(name)\n",
        "        self.__sound = \"Bark\"\n",
        "\n",
        "    def speak(self):\n",
        "        return f\"{self._name} says {self.__sound}.\"\n",
        "\n",
        "class Cat(Animal):\n",
        "    def __init__(self, name):\n",
        "        super().__init__(name)\n",
        "        self.__sound = \"Meow\"\n",
        "\n",
        "    def speak(self):\n",
        "        return f\"{self._name} says {self.__sound}.\"\n",
        "\n",
        "def animal_sounds(animal):\n",
        "    print(animal.speak())\n",
        "dog = Dog(\"Rex\")\n",
        "cat = Cat(\"Whiskers\")\n",
        "\n",
        "animal_sounds(dog)\n",
        "animal_sounds(cat)\n",
        "print(f\"Dog's private sound: {dog._Dog__sound}\")\n",
        "print(f\"Cat's private sound: {cat._Cat__sound}\")\n"
      ],
      "metadata": {
        "colab": {
          "base_uri": "https://localhost:8080/"
        },
        "id": "tchwxk0UpA_r",
        "outputId": "0d787989-24c3-4caa-b0df-4b2c95acf7aa"
      },
      "execution_count": 59,
      "outputs": [
        {
          "output_type": "stream",
          "name": "stdout",
          "text": [
            "Rex says Bark.\n",
            "Whiskers says Meow.\n",
            "Dog's private sound: Bark\n",
            "Cat's private sound: Meow\n"
          ]
        }
      ]
    },
    {
      "cell_type": "code",
      "source": [
        "# Question 8"
      ],
      "metadata": {
        "id": "1o_kWIZrpLST"
      },
      "execution_count": 25,
      "outputs": []
    },
    {
      "cell_type": "code",
      "source": [
        "def square_elements(numbers):\n",
        "    squared_numbers = list(map(lambda x: x ** 2, numbers))\n",
        "    return squared_numbers\n",
        "\n",
        "def filter_and_square_even_elements(numbers):\n",
        "    squared_even_numbers = list(map(lambda x: x ** 2, filter(lambda x: x % 2 == 0, numbers)))\n",
        "    return squared_even_numbers\n",
        "\n",
        "numbers = list(range(1, 51))\n",
        "\n",
        "squared_numbers = square_elements(numbers)\n",
        "print(\"Squared numbers:\", squared_numbers)\n",
        "\n",
        "squared_even_numbers = filter_and_square_even_elements(numbers)\n",
        "print(\"Squared even numbers:\", squared_even_numbers)\n"
      ],
      "metadata": {
        "colab": {
          "base_uri": "https://localhost:8080/"
        },
        "id": "EwHyb3A_pCrC",
        "outputId": "b2c09d08-274f-42d3-9c60-188ee91865f1"
      },
      "execution_count": 57,
      "outputs": [
        {
          "output_type": "stream",
          "name": "stdout",
          "text": [
            "Squared numbers: [1, 4, 9, 16, 25, 36, 49, 64, 81, 100, 121, 144, 169, 196, 225, 256, 289, 324, 361, 400, 441, 484, 529, 576, 625, 676, 729, 784, 841, 900, 961, 1024, 1089, 1156, 1225, 1296, 1369, 1444, 1521, 1600, 1681, 1764, 1849, 1936, 2025, 2116, 2209, 2304, 2401, 2500]\n",
            "Squared even numbers: [4, 16, 36, 64, 100, 144, 196, 256, 324, 400, 484, 576, 676, 784, 900, 1024, 1156, 1296, 1444, 1600, 1764, 1936, 2116, 2304, 2500]\n"
          ]
        }
      ]
    },
    {
      "cell_type": "code",
      "source": [
        "# Question 9"
      ],
      "metadata": {
        "id": "e1Yu4-6GpQlY"
      },
      "execution_count": 27,
      "outputs": []
    },
    {
      "cell_type": "code",
      "source": [
        "class Triangle:\n",
        "    def __init__(self, angle1, angle2, angle3):\n",
        "        self.angle1 = angle1\n",
        "        self.angle2 = angle2\n",
        "        self.angle3 = angle3\n",
        "\n",
        "    def validate_triangle(self):\n",
        "\n",
        "        if self.angle1 + self.angle2 + self.angle3 == 180:\n",
        "            return True\n",
        "        else:\n",
        "            return False\n",
        "\n",
        "    def display_angles(self):\n",
        "        print(f\"Angle 1: {self.angle1}°\")\n",
        "        print(f\"Angle 2: {self.angle2}°\")\n",
        "        print(f\"Angle 3: {self.angle3}°\")\n",
        "\n",
        "triangle = Triangle(60, 60, 60)\n",
        "\n",
        "triangle.display_angles()\n",
        "\n",
        "\n",
        "if triangle.validate_triangle():\n",
        "    print(\"The angles form a valid triangle.\")\n",
        "else:\n",
        "    print(\"The angles do not form a valid triangle.\")\n"
      ],
      "metadata": {
        "colab": {
          "base_uri": "https://localhost:8080/"
        },
        "id": "kinL8YDXp25y",
        "outputId": "c4e7d044-15c2-4768-f027-271a561d97aa"
      },
      "execution_count": 51,
      "outputs": [
        {
          "output_type": "stream",
          "name": "stdout",
          "text": [
            "Angle 1: 60°\n",
            "Angle 2: 60°\n",
            "Angle 3: 60°\n",
            "The angles form a valid triangle.\n"
          ]
        }
      ]
    },
    {
      "cell_type": "code",
      "source": [
        "# Question 10"
      ],
      "metadata": {
        "id": "Al0zgezsp3sG"
      },
      "execution_count": 29,
      "outputs": []
    },
    {
      "cell_type": "code",
      "source": [
        "class Triangle:\n",
        "    number_of_sides = 3\n",
        "\n",
        "    def __init__(self, angle1, angle2, angle3):\n",
        "        self.angle1 = angle1\n",
        "        self.angle2 = angle2\n",
        "        self.angle3 = angle3\n",
        "\n",
        "    def check_angles(self):\n",
        "        if self.angle1 + self.angle2 + self.angle3 == 180:\n",
        "            print(\"The angles belong to a valid triangle.\")\n",
        "            return True\n",
        "        else:\n",
        "            print(\"The angles do not belong to a valid triangle.\")\n",
        "            return False\n",
        "\n",
        "    def display_angles(self):\n",
        "        print(f\"Angle 1: {self.angle1}°\")\n",
        "        print(f\"Angle 2: {self.angle2}°\")\n",
        "        print(f\"Angle 3: {self.angle3}°\")\n",
        "\n",
        "    def display_number_of_sides(self):\n",
        "        print(f\"A triangle has {Triangle.number_of_sides} sides.\")\n",
        "\n",
        "triangle = Triangle(60, 60, 60)\n",
        "triangle.display_angles()\n",
        "triangle.check_angles()\n",
        "triangle.display_number_of_sides()\n"
      ],
      "metadata": {
        "colab": {
          "base_uri": "https://localhost:8080/"
        },
        "id": "466ykuZVp-EK",
        "outputId": "78fdf2fb-e806-4a2f-957b-cbfe88957da9"
      },
      "execution_count": 52,
      "outputs": [
        {
          "output_type": "stream",
          "name": "stdout",
          "text": [
            "Angle 1: 60°\n",
            "Angle 2: 60°\n",
            "Angle 3: 60°\n",
            "The angles belong to a valid triangle.\n",
            "A triangle has 3 sides.\n"
          ]
        }
      ]
    },
    {
      "cell_type": "code",
      "source": [
        "# QUestion 11"
      ],
      "metadata": {
        "id": "CIpsdOODqBqy"
      },
      "execution_count": 32,
      "outputs": []
    },
    {
      "cell_type": "code",
      "source": [
        "class Triangle:\n",
        "\n",
        "    number_of_sides = 3\n",
        "\n",
        "    def __init__(self, angle1, angle2, angle3):\n",
        "        self.angle1 = angle1\n",
        "        self.angle2 = angle2\n",
        "        self.angle3 = angle3\n",
        "\n",
        "    def check_angles(self):\n",
        "        if self.angle1 + self.angle2 + self.angle3 == 180:\n",
        "            print(\"The angles belong to a valid triangle.\")\n",
        "            return True\n",
        "        else:\n",
        "            print(\"The angles do not belong to a valid triangle.\")\n",
        "            return False\n",
        "\n",
        "    def display_angles(self):\n",
        "\n",
        "        print(f\"Angle 1: {self.angle1}°\")\n",
        "        print(f\"Angle 2: {self.angle2}°\")\n",
        "        print(f\"Angle 3: {self.angle3}°\")\n",
        "\n",
        "    def display_number_of_sides(self):\n",
        "\n",
        "        print(f\"A triangle has {Triangle.number_of_sides} sides.\")\n",
        "\n",
        "triangle = Triangle(60, 60, 60)\n",
        "triangle.display_angles()\n",
        "triangle.check_angles()\n",
        "triangle.display_number_of_sides()\n"
      ],
      "metadata": {
        "colab": {
          "base_uri": "https://localhost:8080/"
        },
        "id": "h1LqKNKGqiBd",
        "outputId": "fe38e2ac-04f9-4024-8aa0-828a7671f8c9"
      },
      "execution_count": 33,
      "outputs": [
        {
          "output_type": "stream",
          "name": "stdout",
          "text": [
            "Angle 1: 60°\n",
            "Angle 2: 60°\n",
            "Angle 3: 60°\n",
            "The angles belong to a valid triangle.\n",
            "A triangle has 3 sides.\n"
          ]
        }
      ]
    },
    {
      "cell_type": "code",
      "source": [
        "# Question 11.1"
      ],
      "metadata": {
        "id": "HvjegJ_kqsuD"
      },
      "execution_count": 53,
      "outputs": []
    },
    {
      "cell_type": "code",
      "source": [
        "class Triangle:\n",
        "    number_of_sides = 3\n",
        "\n",
        "    def __init__(self, angle1, angle2, angle3):\n",
        "        self.angle1 = angle1\n",
        "        self.angle2 = angle2\n",
        "        self.angle3 = angle3\n",
        "\n",
        "    def check_angles(self):\n",
        "        if self.angle1 + self.angle2 + self.angle3 == 180:\n",
        "            print(\"The angles belong to a valid triangle.\")\n",
        "            return True\n",
        "        else:\n",
        "            print(\"The angles do not belong to a valid triangle.\")\n",
        "            return False\n",
        "\n",
        "    def display_angles(self):\n",
        "        print(f\"Angle 1: {self.angle1}°\")\n",
        "        print(f\"Angle 2: {self.angle2}°\")\n",
        "        print(f\"Angle 3: {self.angle3}°\")\n",
        "\n",
        "    def display_number_of_sides(self):\n",
        "        print(f\"A triangle has {Triangle.number_of_sides} sides.\")\n",
        "\n",
        "angle1 = int(input(\"Enter the first angle of the triangle: \"))\n",
        "angle2 = int(input(\"Enter the second angle of the triangle: \"))\n",
        "angle3 = int(input(\"Enter the third angle of the triangle: \"))\n",
        "\n",
        "\n",
        "triangle = Triangle(angle1, angle2, angle3)\n",
        "triangle.display_angles()\n",
        "triangle.check_angles()\n",
        "triangle.display_number_of_sides()\n"
      ],
      "metadata": {
        "colab": {
          "base_uri": "https://localhost:8080/"
        },
        "id": "1A8tPRnEv4df",
        "outputId": "ecfb2c5e-4793-4ed0-b9b6-0f3af3b8787b"
      },
      "execution_count": 54,
      "outputs": [
        {
          "output_type": "stream",
          "name": "stdout",
          "text": [
            "Enter the first angle of the triangle: 53\n",
            "Enter the second angle of the triangle: 47\n",
            "Enter the third angle of the triangle: 80\n",
            "Angle 1: 53°\n",
            "Angle 2: 47°\n",
            "Angle 3: 80°\n",
            "The angles belong to a valid triangle.\n",
            "A triangle has 3 sides.\n"
          ]
        }
      ]
    },
    {
      "cell_type": "code",
      "source": [
        "# 11.2"
      ],
      "metadata": {
        "id": "O0dnNKpbq_-b"
      },
      "execution_count": 35,
      "outputs": []
    },
    {
      "cell_type": "code",
      "source": [
        "class Triangle:\n",
        "\n",
        "    number_of_sides = 3\n",
        "\n",
        "    def __init__(self, angle1, angle2, angle3):\n",
        "        self.angle1 = angle1\n",
        "        self.angle2 = angle2\n",
        "        self.angle3 = angle3\n",
        "\n",
        "    def check_angles(self):\n",
        "\n",
        "        if self.angle1 + self.angle2 + self.angle3 == 180:\n",
        "            print(\"The angles belong to a valid triangle.\")\n",
        "            return True\n",
        "        else:\n",
        "            print(\"The angles do not belong to a valid triangle.\")\n",
        "            return False\n",
        "\n",
        "    def display_angles(self):\n",
        "\n",
        "        print(f\"Angle 1: {self.angle1}°\")\n",
        "        print(f\"Angle 2: {self.angle2}°\")\n",
        "        print(f\"Angle 3: {self.angle3}°\")\n",
        "\n",
        "    def display_number_of_sides(self):\n",
        "\n",
        "        print(f\"A triangle has {Triangle.number_of_sides} sides.\")\n",
        "\n",
        "    def is_acute_triangle(self):\n",
        "\n",
        "        if self.angle1 < 90 and self.angle2 < 90 and self.angle3 < 90:\n",
        "            print(\"The triangle is an acute triangle.\")\n",
        "            return True\n",
        "        else:\n",
        "            print(\"The triangle is not an acute triangle.\")\n",
        "            return False\n",
        "\n",
        "    def is_obtuse_triangle(self):\n",
        "        if self.angle1 > 90 or self.angle2 > 90 or self.angle3 > 90:\n",
        "            print(\"The triangle is an obtuse triangle.\")\n",
        "            return True\n",
        "        else:\n",
        "            print(\"The triangle is not an obtuse triangle.\")\n",
        "            return False\n",
        "\n",
        "triangle_instance = Triangle(60, 60, 60)\n",
        "\n",
        "# Calling all the defined methods\n",
        "triangle_instance.display_angles()\n",
        "triangle_instance.check_angles()\n",
        "triangle_instance.is_acute_triangle()\n",
        "triangle_instance.is_obtuse_triangle()\n",
        "triangle_instance.display_number_of_sides()\n"
      ],
      "metadata": {
        "colab": {
          "base_uri": "https://localhost:8080/"
        },
        "id": "syjc3n8QrJYH",
        "outputId": "dce6f99e-3f58-4635-900d-fcc647d83ae4"
      },
      "execution_count": 36,
      "outputs": [
        {
          "output_type": "stream",
          "name": "stdout",
          "text": [
            "Angle 1: 60°\n",
            "Angle 2: 60°\n",
            "Angle 3: 60°\n",
            "The angles belong to a valid triangle.\n",
            "The triangle is an acute triangle.\n",
            "The triangle is not an obtuse triangle.\n",
            "A triangle has 3 sides.\n"
          ]
        }
      ]
    },
    {
      "cell_type": "code",
      "source": [
        "# 11.3"
      ],
      "metadata": {
        "id": "o7Eh0ORGrJzq"
      },
      "execution_count": 37,
      "outputs": []
    },
    {
      "cell_type": "code",
      "source": [
        "class Triangle:\n",
        "    number_of_sides = 3\n",
        "\n",
        "    def __init__(self, angle1, angle2, angle3):\n",
        "        self.angle1 = angle1\n",
        "        self.angle2 = angle2\n",
        "        self.angle3 = angle3\n",
        "\n",
        "    def check_angles(self):\n",
        "        if self.angle1 + self.angle2 + self.angle3 == 180:\n",
        "            print(\"The angles belong to a valid triangle.\")\n",
        "            return True\n",
        "        else:\n",
        "            print(\"The angles do not belong to a valid triangle.\")\n",
        "            return False\n",
        "\n",
        "    def display_angles(self):\n",
        "        print(f\"Angle 1: {self.angle1}°\")\n",
        "        print(f\"Angle 2: {self.angle2}°\")\n",
        "        print(f\"Angle 3: {self.angle3}°\")\n",
        "\n",
        "    def display_number_of_sides(self):\n",
        "        print(f\"A triangle has {Triangle.number_of_sides} sides.\")\n",
        "\n",
        "    def is_acute_triangle(self):\n",
        "        if self.angle1 < 90 and self.angle2 < 90 and self.angle3 < 90:\n",
        "            print(\"The triangle is an acute triangle.\")\n",
        "            return True\n",
        "        else:\n",
        "            print(\"The triangle is not an acute triangle.\")\n",
        "            return False\n",
        "\n",
        "    def is_obtuse_triangle(self):\n",
        "        if self.angle1 > 90 or self.angle2 > 90 or self.angle3 > 90:\n",
        "            print(\"The triangle is an obtuse triangle.\")\n",
        "            return True\n",
        "        else:\n",
        "            print(\"The triangle is not an obtuse triangle.\")\n",
        "            return False\n",
        "\n",
        "\n",
        "class IsoscelesTriangle(Triangle):\n",
        "    def __init__(self, angle1, angle2, angle3):\n",
        "        super().__init__(angle1, angle2, angle3)\n",
        "\n",
        "    def is_isosceles(self):\n",
        "        if self.angle1 == self.angle2 or self.angle2 == self.angle3 or self.angle1 == self.angle3:\n",
        "            print(\"The triangle is an Isosceles triangle.\")\n",
        "            return True\n",
        "        else:\n",
        "            print(\"The triangle is not an Isosceles triangle.\")\n",
        "            return False\n",
        "\n",
        "\n",
        "class RightTriangle(Triangle):\n",
        "    def __init__(self, angle1, angle2, angle3):\n",
        "        super().__init__(angle1, angle2, angle3)\n",
        "\n",
        "    def is_right_triangle(self):\n",
        "        if self.angle1 == 90 or self.angle2 == 90 or self.angle3 == 90:\n",
        "            print(\"The triangle is a Right triangle.\")\n",
        "            return True\n",
        "        else:\n",
        "            print(\"The triangle is not a Right triangle.\")\n",
        "            return False\n",
        "\n",
        "\n",
        "class EquilateralTriangle(Triangle):\n",
        "    def __init__(self, angle1, angle2, angle3):\n",
        "        super().__init__(angle1, angle2, angle3)\n",
        "\n",
        "    def is_equilateral(self):\n",
        "        if self.angle1 == 60 and self.angle2 == 60 and self.angle3 == 60:\n",
        "            print(\"The triangle is an Equilateral triangle.\")\n",
        "            return True\n",
        "        else:\n",
        "            print(\"The triangle is not an Equilateral triangle.\")\n",
        "            return False\n",
        "\n",
        "\n",
        "isosceles_triangle = IsoscelesTriangle(60, 60, 60)\n",
        "right_triangle = RightTriangle(90, 60, 30)\n",
        "equilateral_triangle = EquilateralTriangle(60, 60, 60)\n",
        "\n",
        "# Isosceles Triangle\n",
        "isosceles_triangle.display_angles()\n",
        "isosceles_triangle.check_angles()\n",
        "isosceles_triangle.is_isosceles()\n",
        "isosceles_triangle.display_number_of_sides()\n",
        "\n",
        "# for Right Triangle\n",
        "right_triangle.display_angles()\n",
        "right_triangle.check_angles()\n",
        "right_triangle.is_right_triangle()\n",
        "right_triangle.display_number_of_sides()\n",
        "\n",
        "# for Equilateral Triangle\n",
        "equilateral_triangle.display_angles()\n",
        "equilateral_triangle.check_angles()\n",
        "equilateral_triangle.is_equilateral()\n",
        "equilateral_triangle.display_number_of_sides()\n"
      ],
      "metadata": {
        "colab": {
          "base_uri": "https://localhost:8080/"
        },
        "id": "xjSlVWllrPOr",
        "outputId": "ad0baf24-179a-4362-e6b5-b2522e01956f"
      },
      "execution_count": 39,
      "outputs": [
        {
          "output_type": "stream",
          "name": "stdout",
          "text": [
            "Angle 1: 60°\n",
            "Angle 2: 60°\n",
            "Angle 3: 60°\n",
            "The angles belong to a valid triangle.\n",
            "The triangle is an Isosceles triangle.\n",
            "A triangle has 3 sides.\n",
            "Angle 1: 90°\n",
            "Angle 2: 60°\n",
            "Angle 3: 30°\n",
            "The angles belong to a valid triangle.\n",
            "The triangle is a Right triangle.\n",
            "A triangle has 3 sides.\n",
            "Angle 1: 60°\n",
            "Angle 2: 60°\n",
            "Angle 3: 60°\n",
            "The angles belong to a valid triangle.\n",
            "The triangle is an Equilateral triangle.\n",
            "A triangle has 3 sides.\n"
          ]
        }
      ]
    },
    {
      "cell_type": "code",
      "source": [
        "# 11.4"
      ],
      "metadata": {
        "id": "Td5vKeqxrTfe"
      },
      "execution_count": 40,
      "outputs": []
    },
    {
      "cell_type": "code",
      "source": [
        "class Triangle:\n",
        "    number_of_sides = 3\n",
        "\n",
        "    def __init__(self, angle1, angle2, angle3):\n",
        "        self.angle1 = angle1\n",
        "        self.angle2 = angle2\n",
        "        self.angle3 = angle3\n",
        "\n",
        "    def check_angles(self):\n",
        "        if self.angle1 + self.angle2 + self.angle3 == 180:\n",
        "            print(\"The angles belong to a valid triangle.\")\n",
        "            return True\n",
        "        else:\n",
        "            print(\"The angles do not belong to a valid triangle.\")\n",
        "            return False\n",
        "\n",
        "    def display_angles(self):\n",
        "        print(f\"Angle 1: {self.angle1}°\")\n",
        "        print(f\"Angle 2: {self.angle2}°\")\n",
        "        print(f\"Angle 3: {self.angle3}°\")\n",
        "\n",
        "    def display_number_of_sides(self):\n",
        "        print(f\"A triangle has {Triangle.number_of_sides} sides.\")\n",
        "\n",
        "    def is_acute_triangle(self):\n",
        "        if self.angle1 < 90 and self.angle2 < 90 and self.angle3 < 90:\n",
        "            print(\"The triangle is an acute triangle.\")\n",
        "            return True\n",
        "        else:\n",
        "            print(\"The triangle is not an acute triangle.\")\n",
        "            return False\n",
        "\n",
        "    def is_obtuse_triangle(self):\n",
        "        if self.angle1 > 90 or self.angle2 > 90 or self.angle3 > 90:\n",
        "            print(\"The triangle is an obtuse triangle.\")\n",
        "            return True\n",
        "        else:\n",
        "            print(\"The triangle is not an obtuse triangle.\")\n",
        "            return False\n",
        "\n",
        "\n",
        "class IsoscelesTriangle(Triangle):\n",
        "    def __init__(self, angle1, angle2, angle3):\n",
        "        super().__init__(angle1, angle2, angle3)\n",
        "\n",
        "    def is_isosceles(self):\n",
        "        if self.angle1 == self.angle2 or self.angle2 == self.angle3 or self.angle1 == self.angle3:\n",
        "            print(\"The triangle is an Isosceles triangle.\")\n",
        "            return True\n",
        "        else:\n",
        "            print(\"The triangle is not an Isosceles triangle.\")\n",
        "            return False\n",
        "\n",
        "\n",
        "class RightTriangle(Triangle):\n",
        "    def __init__(self, angle1, angle2, angle3):\n",
        "        super().__init__(angle1, angle2, angle3)\n",
        "\n",
        "    def is_right_triangle(self):\n",
        "\n",
        "        if self.angle1 == 90 or self.angle2 == 90 or self.angle3 == 90:\n",
        "            print(\"The triangle is a Right triangle.\")\n",
        "            return True\n",
        "        else:\n",
        "            print(\"The triangle is not a Right triangle.\")\n",
        "            return False\n",
        "\n",
        "\n",
        "class EquilateralTriangle(Triangle):\n",
        "    def __init__(self, angle1, angle2, angle3):\n",
        "        super().__init__(angle1, angle2, angle3)\n",
        "\n",
        "    def is_equilateral(self):\n",
        "        if self.angle1 == 60 and self.angle2 == 60 and self.angle3 == 60:\n",
        "            print(\"The triangle is an Equilateral triangle.\")\n",
        "            return True\n",
        "        else:\n",
        "            print(\"The triangle is not an Equilateral triangle.\")\n",
        "            return False\n",
        "\n",
        "isosceles_triangle = IsoscelesTriangle(60, 60, 60)\n",
        "right_triangle = RightTriangle(90, 60, 30)\n",
        "equilateral_triangle = EquilateralTriangle(60, 60, 60)\n",
        "\n",
        "#  for Isosceles Triangle\n",
        "isosceles_triangle.display_angles()\n",
        "isosceles_triangle.check_angles()\n",
        "isosceles_triangle.is_isosceles()\n",
        "isosceles_triangle.display_number_of_sides()\n",
        "\n",
        "# for Right Triangle\n",
        "right_triangle.display_angles()\n",
        "right_triangle.check_angles()\n",
        "right_triangle.is_right_triangle()\n",
        "right_triangle.display_number_of_sides()\n",
        "\n",
        "# for Equilateral Triangle\n",
        "equilateral_triangle.display_angles()\n",
        "equilateral_triangle.check_angles()\n",
        "equilateral_triangle.is_equilateral()\n",
        "equilateral_triangle.display_number_of_sides()\n"
      ],
      "metadata": {
        "colab": {
          "base_uri": "https://localhost:8080/"
        },
        "id": "ulmGAUuQrhFk",
        "outputId": "9d89901c-56bc-45e7-ab33-811a4c439527"
      },
      "execution_count": 56,
      "outputs": [
        {
          "output_type": "stream",
          "name": "stdout",
          "text": [
            "Angle 1: 60°\n",
            "Angle 2: 60°\n",
            "Angle 3: 60°\n",
            "The angles belong to a valid triangle.\n",
            "The triangle is an Isosceles triangle.\n",
            "A triangle has 3 sides.\n",
            "Angle 1: 90°\n",
            "Angle 2: 60°\n",
            "Angle 3: 30°\n",
            "The angles belong to a valid triangle.\n",
            "The triangle is a Right triangle.\n",
            "A triangle has 3 sides.\n",
            "Angle 1: 60°\n",
            "Angle 2: 60°\n",
            "Angle 3: 60°\n",
            "The angles belong to a valid triangle.\n",
            "The triangle is an Equilateral triangle.\n",
            "A triangle has 3 sides.\n"
          ]
        }
      ]
    },
    {
      "cell_type": "code",
      "source": [
        "# question 12"
      ],
      "metadata": {
        "id": "T4gYw-VTrs5M"
      },
      "execution_count": 42,
      "outputs": []
    },
    {
      "cell_type": "code",
      "source": [
        "class Triangle:\n",
        "\n",
        "    number_of_sides = 3\n",
        "\n",
        "    def __init__(self, angle1, angle2, angle3):\n",
        "        self.angle1 = angle1\n",
        "        self.angle2 = angle2\n",
        "        self.angle3 = angle3\n",
        "\n",
        "    def check_angles(self):\n",
        "        if self.angle1 + self.angle2 + self.angle3 == 180:\n",
        "            print(\"The angles belong to a valid triangle.\")\n",
        "            return True\n",
        "        else:\n",
        "            print(\"The angles do not belong to a valid triangle.\")\n",
        "            return False\n",
        "\n",
        "    def display_angles(self):\n",
        "        print(f\"Angle 1: {self.angle1}°\")\n",
        "        print(f\"Angle 2: {self.angle2}°\")\n",
        "        print(f\"Angle 3: {self.angle3}°\")\n",
        "\n",
        "    def display_number_of_sides(self):\n",
        "        print(f\"A triangle has {Triangle.number_of_sides} sides.\")\n",
        "\n",
        "    def is_acute_triangle(self):\n",
        "        if self.angle1 < 90 and self.angle2 < 90 and self.angle3 < 90:\n",
        "            print(\"The triangle is an acute triangle.\")\n",
        "            return True\n",
        "        else:\n",
        "            print(\"The triangle is not an acute triangle.\")\n",
        "            return False\n",
        "\n",
        "    def is_obtuse_triangle(self):\n",
        "        if self.angle1 > 90 or self.angle2 > 90 or self.angle3 > 90:\n",
        "            print(\"The triangle is an obtuse triangle.\")\n",
        "            return True\n",
        "        else:\n",
        "            print(\"The triangle is not an obtuse triangle.\")\n",
        "            return False\n",
        "\n",
        "\n",
        "class IsoscelesTriangle(Triangle):\n",
        "    def __init__(self, angle1, angle2, angle3):\n",
        "        super().__init__(angle1, angle2, angle3)\n",
        "\n",
        "    def is_isosceles(self):\n",
        "        if self.angle1 == self.angle2 or self.angle2 == self.angle3 or self.angle1 == self.angle3:\n",
        "            print(\"The triangle is an Isosceles triangle.\")\n",
        "            return True\n",
        "        else:\n",
        "            print(\"The triangle is not an Isosceles triangle.\")\n",
        "            return False\n",
        "\n",
        "\n",
        "class RightTriangle(Triangle):\n",
        "    def __init__(self, angle1, angle2, angle3):\n",
        "        super().__init__(angle1, angle2, angle3)\n",
        "\n",
        "    def is_right_triangle(self):\n",
        "        if self.angle1 == 90 or self.angle2 == 90 or self.angle3 == 90:\n",
        "            print(\"The triangle is a Right triangle.\")\n",
        "            return True\n",
        "        else:\n",
        "            print(\"The triangle is not a Right triangle.\")\n",
        "            return False\n",
        "\n",
        "\n",
        "class IsoscelesRightTriangle(IsoscelesTriangle, RightTriangle):\n",
        "    def __init__(self, angle1, angle2, angle3):\n",
        "        super().__init__(angle1, angle2, angle3)\n",
        "\n",
        "    def is_isosceles_right_triangle(self):\n",
        "        # Check if the triangle is an Isosceles Right Triangle\n",
        "        if (self.angle1 == 90 and self.angle2 == 45 and self.angle3 == 45) or \\\n",
        "           (self.angle1 == 45 and self.angle2 == 90 and self.angle3 == 45) or \\\n",
        "           (self.angle1 == 45 and self.angle2 == 45 and self.angle3 == 90):\n",
        "            print(\"The triangle is an Isosceles Right triangle.\")\n",
        "            return True\n",
        "        else:\n",
        "            print(\"The triangle is not an Isosceles Right triangle.\")\n",
        "            return False\n",
        "\n",
        "isosceles_right_triangle = IsoscelesRightTriangle(90, 45, 45)\n",
        "\n",
        "isosceles_right_triangle.display_angles()\n",
        "isosceles_right_triangle.check_angles()\n",
        "isosceles_right_triangle.is_isosceles_right_triangle()\n",
        "isosceles_right_triangle.display_number_of_sides()\n"
      ],
      "metadata": {
        "colab": {
          "base_uri": "https://localhost:8080/"
        },
        "id": "h2qMzNiXr1w-",
        "outputId": "a394ec16-9f57-4fbe-a2ad-b5f562ef1427"
      },
      "execution_count": 55,
      "outputs": [
        {
          "output_type": "stream",
          "name": "stdout",
          "text": [
            "Angle 1: 90°\n",
            "Angle 2: 45°\n",
            "Angle 3: 45°\n",
            "The angles belong to a valid triangle.\n",
            "The triangle is an Isosceles Right triangle.\n",
            "A triangle has 3 sides.\n"
          ]
        }
      ]
    },
    {
      "cell_type": "code",
      "source": [],
      "metadata": {
        "id": "Wcu5M1RZr5AI"
      },
      "execution_count": null,
      "outputs": []
    }
  ]
}